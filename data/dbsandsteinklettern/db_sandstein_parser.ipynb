{
 "cells": [
  {
   "cell_type": "code",
   "execution_count": 1,
   "metadata": {
    "collapsed": true
   },
   "outputs": [],
   "source": [
    "import requests"
   ]
  },
  {
   "cell_type": "code",
   "execution_count": 2,
   "metadata": {
    "collapsed": true
   },
   "outputs": [],
   "source": [
    "import re"
   ]
  },
  {
   "cell_type": "code",
   "execution_count": 8,
   "metadata": {
    "collapsed": true
   },
   "outputs": [],
   "source": [
    "import codecs"
   ]
  },
  {
   "cell_type": "code",
   "execution_count": 112,
   "metadata": {
    "collapsed": false
   },
   "outputs": [],
   "source": [
    "r = requests.get('http://db-sandsteinklettern.gipfelbuch.de/komment.php?wegid=0')\n",
    "content = codecs.latin_1_decode(r.content)[0].split('\\n')"
   ]
  },
  {
   "cell_type": "code",
   "execution_count": 113,
   "metadata": {
    "collapsed": false
   },
   "outputs": [
    {
     "data": {
      "text/plain": [
       "''"
      ]
     },
     "execution_count": 113,
     "metadata": {},
     "output_type": "execute_result"
    }
   ],
   "source": [
    "def parse_gebiet(content):\n",
    "    gebiet = None\n",
    "    for line in content:\n",
    "        if 'gebietid' in line:\n",
    "            reg = re.match('.*gebietid=.*>(.*)<', line)\n",
    "            if reg:\n",
    "                return reg.groups()[0]\n",
    "        \n",
    "parse_gebiet(content)"
   ]
  },
  {
   "cell_type": "code",
   "execution_count": 114,
   "metadata": {
    "collapsed": false
   },
   "outputs": [
    {
     "data": {
      "text/plain": [
       "'  '"
      ]
     },
     "execution_count": 114,
     "metadata": {},
     "output_type": "execute_result"
    }
   ],
   "source": [
    "def parse_sector(content):\n",
    "    sektor = None\n",
    "    for line in content:\n",
    "        if 'sektorid' in line:\n",
    "            reg = re.match('.*sektorid=.*>(.*)<', line)\n",
    "            if reg:\n",
    "                return reg.groups()[0]\n",
    "            \n",
    "parse_sector(content)"
   ]
  },
  {
   "cell_type": "code",
   "execution_count": 118,
   "metadata": {
    "collapsed": false
   },
   "outputs": [
    {
     "name": "stdout",
     "output_type": "stream",
     "text": [
      "diff :: \n",
      "weg ::   \n",
      "gipfel ::  \n"
     ]
    }
   ],
   "source": [
    "def parse_gipfel_weg_content(content):\n",
    "    info = {}\n",
    "\n",
    "    i = 0\n",
    "    for line in content:\n",
    "        if 'gipfelid' in line:\n",
    "            info['gipfel'] = content[i+1].split('</A>')[0]\n",
    "            info['weg'] = content[i+2].split('</B>')[0]\n",
    "            info['diff'] = content[i+4].split('<')[0]\n",
    "            eb = content[i+6].split('<')[0]\n",
    "            info_reg = re.match('.*(\\d\\d.\\d\\d.\\d\\d\\d\\d)', eb)\n",
    "            if info_reg:\n",
    "                info['year'] = info_reg.groups()[0]\n",
    "            info_eb = re.match('(.*) \\d\\d.\\d\\d.\\d\\d\\d\\d', eb)\n",
    "            if info_eb:\n",
    "                info['eb'] = info_eb.groups()[0].split(',')\n",
    "            break\n",
    "        i+=1\n",
    "    return info\n",
    "\n",
    "info = parse_gipfel_weg_content(content)\n",
    "        \n",
    "for i in info:\n",
    "        print('{} :: {}'.format(i, info[i]))"
   ]
  },
  {
   "cell_type": "code",
   "execution_count": 119,
   "metadata": {
    "collapsed": false
   },
   "outputs": [
    {
     "data": {
      "text/plain": [
       "''"
      ]
     },
     "execution_count": 119,
     "metadata": {},
     "output_type": "execute_result"
    }
   ],
   "source": [
    "def parse_description(content):\n",
    "    descr = None\n",
    "    i = 0\n",
    "    for line in content:\n",
    "        if '<BR><BR>' in line:\n",
    "            descr = content[i+1].split('<FONT')[0]\n",
    "        i+=1\n",
    "    return descr\n",
    "\n",
    "parse_description(content)"
   ]
  },
  {
   "cell_type": "code",
   "execution_count": 122,
   "metadata": {
    "collapsed": false
   },
   "outputs": [],
   "source": [
    "res = []\n",
    "for i in range(30):\n",
    "    r = requests.get('http://db-sandsteinklettern.gipfelbuch.de/komment.php?wegid='+str(i))\n",
    "    content = codecs.latin_1_decode(r.content)[0].split('\\n')\n",
    "    \n",
    "    info = {}\n",
    "    info['gebiet'] = parse_gebiet(content)\n",
    "    info['descr'] = parse_description(content)\n",
    "    info['sector'] = parse_sector(content)\n",
    "    info.update(parse_gipfel_weg_content(content))\n",
    "    \n",
    "    res.append(info)"
   ]
  },
  {
   "cell_type": "code",
   "execution_count": 123,
   "metadata": {
    "collapsed": false
   },
   "outputs": [
    {
     "data": {
      "text/plain": [
       "[{'descr': '',\n",
       "  'diff': '',\n",
       "  'gebiet': '',\n",
       "  'gipfel': ' ',\n",
       "  'sector': '  ',\n",
       "  'weg': '  '},\n",
       " {'descr': '',\n",
       "  'diff': '',\n",
       "  'gebiet': '',\n",
       "  'gipfel': ' ',\n",
       "  'sector': '  ',\n",
       "  'weg': '  '},\n",
       " {'descr': '',\n",
       "  'diff': '',\n",
       "  'gebiet': '',\n",
       "  'gipfel': ' ',\n",
       "  'sector': '  ',\n",
       "  'weg': '  '},\n",
       " {'descr': '',\n",
       "  'diff': '',\n",
       "  'gebiet': '',\n",
       "  'gipfel': ' ',\n",
       "  'sector': '  ',\n",
       "  'weg': '  '},\n",
       " {'descr': '',\n",
       "  'diff': '',\n",
       "  'gebiet': '',\n",
       "  'gipfel': ' ',\n",
       "  'sector': '  ',\n",
       "  'weg': '  '},\n",
       " {'descr': '',\n",
       "  'diff': '',\n",
       "  'gebiet': '',\n",
       "  'gipfel': ' ',\n",
       "  'sector': '  ',\n",
       "  'weg': '  '},\n",
       " {'descr': 'In der Talseite sind zwei von unten beginnende, geradlinige, überhängende Rißfolgen sichtbar. Den linken Riß (R) zum 2.R, dort (stav. ze sed.) Riß zum 3.R, kurzer Quergang rechts und Riß zum 4.R in Höhlung. Riß gerade und Spreize hoch und über mehrere kleine Pfeiler zG ',\n",
       "  'diff': 'VIIIb (IXb)',\n",
       "  'eb': ['Stanislav Lukavský', ' I. Kobr'],\n",
       "  'gebiet': 'Adersbach',\n",
       "  'gipfel': 'Pegasus / Pegas',\n",
       "  'sector': ' Seegebiet / Jezerka',\n",
       "  'weg': '6 *Husarenstück / Husarský kousek',\n",
       "  'year': '26.07.1981'},\n",
       " {'descr': '',\n",
       "  'diff': '',\n",
       "  'gebiet': '',\n",
       "  'gipfel': ' ',\n",
       "  'sector': '  ',\n",
       "  'weg': '  '},\n",
       " {'descr': 'In der Bergseite(NO) (unterst.) Wand zu Band. Auf ihm rechts queren über die Nordkante zu SU in der Talwand. Wand über Überh. zu R. Rinne und Wand schräg rechts zG.',\n",
       "  'diff': 'VIIc',\n",
       "  'eb': ['Karel Hauschke und Jan Záleský', ' '],\n",
       "  'gebiet': 'Adersbach',\n",
       "  'gipfel': 'Titan / Titán',\n",
       "  'sector': ' Seegebiet / Jezerka',\n",
       "  'weg': '1 *Staubiger Weg / Zaprá\\x9aená',\n",
       "  'year': '27.05.1962'},\n",
       " {'descr': '',\n",
       "  'diff': '',\n",
       "  'gebiet': '',\n",
       "  'gipfel': ' ',\n",
       "  'sector': '  ',\n",
       "  'weg': '  '},\n",
       " {'descr': 'Links in der Nordseite (zum Weg) Doppelriß in \\r',\n",
       "  'diff': 'III',\n",
       "  'eb': ['Zden&#283;k Studni&#269;ka', ' M. Stan&#283;k'],\n",
       "  'gebiet': 'Adersbach',\n",
       "  'gipfel': 'Spanische Wand / \\x8apan&#283;lská st&#283;na',\n",
       "  'sector': ' Eingangsbereich / Vstupní obvod',\n",
       "  'weg': '1 *Studenten-Doppelriß / \\x8atudácká dvojspára',\n",
       "  'year': '07.10.1955'},\n",
       " {'descr': '',\n",
       "  'diff': '',\n",
       "  'gebiet': '',\n",
       "  'gipfel': ' ',\n",
       "  'sector': '  ',\n",
       "  'weg': '  '},\n",
       " {'descr': '',\n",
       "  'diff': '',\n",
       "  'gebiet': '',\n",
       "  'gipfel': ' ',\n",
       "  'sector': '  ',\n",
       "  'weg': '  '},\n",
       " {'descr': '',\n",
       "  'diff': '',\n",
       "  'gebiet': '',\n",
       "  'gipfel': ' ',\n",
       "  'sector': '  ',\n",
       "  'weg': '  '},\n",
       " {'descr': 'Aus der Scharte linkshaltend Kamin auf Pfeiler, Wand bei Riss und Querung (SU) nach rechts zu R und hoch zu Abs. Doppelriss zu Abs.(links AÖ). Rechts Reibungswand z.G. ',\n",
       "  'diff': 'IV',\n",
       "  'eb': ['Georg Richter', ' M.Dietrich'],\n",
       "  'gebiet': 'Adersbach',\n",
       "  'gipfel': 'Mittagsfels / Polední',\n",
       "  'sector': ' Seegebiet / Jezerka',\n",
       "  'weg': '1 *Alter Weg / Stará cesta',\n",
       "  'year': '31.05.1928'},\n",
       " {'descr': 'In der Schartenkluft hochspreizen und rechts Kante \\r',\n",
       "  'diff': 'VIIb',\n",
       "  'eb': ['Herbert Richter', ' H. Claussnitzer', ' B. Maidl'],\n",
       "  'gebiet': 'Adersbach',\n",
       "  'gipfel': 'Dreifreundeturm / V&#283;\\x9e t&#345;í p&#345;átel',\n",
       "  'sector': ' Schlucht über der abgebrannten Mühle / Rokle nad Spáleným mlýnem',\n",
       "  'weg': '1 Sächsischer Weg / Saská',\n",
       "  'year': '19.09.1960'},\n",
       " {'descr': 'Rechts in der NW-Seite Riß z.G.',\n",
       "  'diff': 'V',\n",
       "  'eb': ['Franti\\x9aek Jenka', ' P. Slanina'],\n",
       "  'gebiet': 'Adersbach',\n",
       "  'gipfel': 'Spanische Wand / \\x8apan&#283;lská st&#283;na',\n",
       "  'sector': ' Eingangsbereich / Vstupní obvod',\n",
       "  'weg': '8 Geknickter Riss / Zalomená spára',\n",
       "  'year': '08.06.1963'},\n",
       " {'descr': 'NO-Kamin über Verengung z.G.',\n",
       "  'diff': 'V',\n",
       "  'eb': ['Jan Farka\\x9a', ' '],\n",
       "  'gebiet': 'Adersbach',\n",
       "  'gipfel': 'Spanische Wand / \\x8apan&#283;lská st&#283;na',\n",
       "  'sector': ' Eingangsbereich / Vstupní obvod',\n",
       "  'weg': '2 Farka\\x9akamin / Farka\\x9a&#367;v komín',\n",
       "  'year': '07.10.1962'},\n",
       " {'descr': 'Aus dem Liebhabergang Kamin an der Milenka in Innenraum. Links Riss und Kamin zum 1.R. Riss in Nische und durchklettern zu Sandterrasse. Durchklettern zu Kamin, in seiner geneigten Wand Riss zu Loch und durchklettern zu Plateau. Riss über 2R und Wand zG.',\n",
       "  'diff': 'VI',\n",
       "  'eb': ['Otto Dietrich und Wilhelm Fiehl und Otto Rülke', ' '],\n",
       "  'gebiet': 'Adersbach',\n",
       "  'gipfel': 'Liebespaar / Milenci',\n",
       "  'sector': ' Liebeshöhe / Milenecká hora',\n",
       "  'weg': '1 *Alter Weg / Stará cesta',\n",
       "  'year': '18.06.1923'},\n",
       " {'descr': '',\n",
       "  'diff': 'VIIa/3',\n",
       "  'eb': ['Manfred Meißner', '  G. Schwenke'],\n",
       "  'gebiet': 'Adersbach',\n",
       "  'gipfel': 'Liebespaar / Milenci',\n",
       "  'sector': ' Liebeshöhe / Milenecká hora',\n",
       "  'weg': '11 Pfeilerweg / Pilí&#345;ová',\n",
       "  'year': '27.08.1962'},\n",
       " {'descr': 'Aus dem Loch (SU) Hangel und Wand etwas rechts z.G.',\n",
       "  'diff': 'VI',\n",
       "  'eb': ['Alexander Peroutka', ' J.\\x8aim&#367;rka'],\n",
       "  'gebiet': 'Adersbach',\n",
       "  'gipfel': 'Windturm / V&#283;trná',\n",
       "  'sector': ' Unter der Burg / Podhradí',\n",
       "  'weg': '2.1 *Spinnwebe / Pavu&#269;inka',\n",
       "  'year': '28.04.1973'},\n",
       " {'descr': 'für Anfänger im Vor- und Nachstieg zu empfehlen\\r',\n",
       "  'diff': 'II',\n",
       "  'eb': ['Vladimír Slouka', ' '],\n",
       "  'gebiet': 'Böhmische Schweiz',\n",
       "  'gipfel': 'Gruft / Hrobka',\n",
       "  'sector': ' Eiland / Ostrov',\n",
       "  'weg': '1 Alter Weg / Stará cesta',\n",
       "  'year': '01.09.1968'},\n",
       " {'descr': 'NW-Wand zu Handriss, diesen zu überwölbtem Band, über Überhang und (unterst.) Wand zum Gipfel. ',\n",
       "  'diff': 'VIIb',\n",
       "  'eb': ['Horst Böhm und Fritz Eske', ' W. Böhm', ' G. Grünberg'],\n",
       "  'gebiet': 'Adersbach',\n",
       "  'gipfel': 'Dresdner Turm / Drá\\x9e&#271;anská',\n",
       "  'sector': ' Unter der Burg / Podhradí',\n",
       "  'weg': '1 *Alter Weg / Stará cesta',\n",
       "  'year': '25.05.1960'},\n",
       " {'descr': 'geht auch im Winter mit Schnee!',\n",
       "  'diff': '1',\n",
       "  'eb': ['Heinz Kittner', ' '],\n",
       "  'gebiet': 'Böhmische Schweiz',\n",
       "  'gipfel': 'Gruft / Hrobka',\n",
       "  'sector': ' Eiland / Ostrov',\n",
       "  'weg': '26 Sprung / P&#345;eskok',\n",
       "  'year': '14.07.1984'},\n",
       " {'descr': 'kurzer Anfängerweg, ein bequemer Kamin ohne böse Stellen',\n",
       "  'diff': 'II',\n",
       "  'eb': ['', ' '],\n",
       "  'gebiet': 'Böhmische Schweiz',\n",
       "  'gipfel': 'Sphinx / Sfinga',\n",
       "  'sector': ' Eiland / Ostrov',\n",
       "  'weg': '8 Schartenweg / Náhorní cesta',\n",
       "  'year': '00.00.0000'},\n",
       " {'descr': 'W-Kante zu Abs.(1.R), (unterst.) Kante an 2.R vorbei zu Band (nR). Wand an Loch vorbei zG.',\n",
       "  'diff': 'VI(VIIa)',\n",
       "  'eb': ['Kurt Aehlig', ' W.Rösel', ' J.Seidel'],\n",
       "  'gebiet': 'Böhmische Schweiz',\n",
       "  'gipfel': 'Riesenturm / Obr',\n",
       "  'sector': ' Eiland / Ostrov',\n",
       "  'weg': '12 Südwestweg / Jihozápadní cesta',\n",
       "  'year': '21.05.1922'},\n",
       " {'descr': 'Rechts der Südkante Wand zG.',\n",
       "  'diff': 'III',\n",
       "  'eb': ['Dietmar Heinicke', ' '],\n",
       "  'gebiet': 'Böhmische Schweiz',\n",
       "  'gipfel': 'Grenzer / Hrani&#269;á&#345;',\n",
       "  'sector': ' Prebischtorgebiet / Prav&#269;ická brána',\n",
       "  'weg': '1 Alter Weg / Stará cesta',\n",
       "  'year': '29.08.1971'},\n",
       " {'descr': 'kurze Wandkletterei mit einem tüffteligen Reibungsausstieg(Schlüsselstelle), niedrige Begehungen gibt es auch noch(wir hatten die 2. im Jahr 2000)\\r',\n",
       "  'diff': 'VI',\n",
       "  'eb': ['Heiko Fuchs', ' R.Lehmann'],\n",
       "  'gebiet': 'Böhmische Schweiz',\n",
       "  'gipfel': 'Block an den Hirschpfützen / Blok v Jelením dole',\n",
       "  'sector': ' Prebischtorgebiet / Prav&#269;ická brána',\n",
       "  'weg': '5 Muldenei / Vejce v \\x9elab&#283;',\n",
       "  'year': '00.00.0000'},\n",
       " {'descr': 'Aus der Scharte die Nordkante zG.',\n",
       "  'diff': 'II',\n",
       "  'eb': ['Peter Augst', ' G.Seifert'],\n",
       "  'gebiet': 'Böhmische Schweiz',\n",
       "  'gipfel': 'Schäferwandkegel (Schäferwandzwerg) / Trpaslík Pastý&#345;ské st&#283;ny',\n",
       "  'sector': ' Prebischtorgebiet / Prav&#269;ická brána',\n",
       "  'weg': '1 Alter Weg / Stará cesta',\n",
       "  'year': '22.06.1952'},\n",
       " {'descr': 'Bei der Westkante zu Abs. und linksgen. Doppelriss zu Überh.(Schl.). Riss zG. - anspruchsvolle Risskletterei, im schrägen Einstiegsriss Knoten und vor der Ausstiegsrinne Kinderkopf(dort Schlüsselstelle)',\n",
       "  'diff': 'VI',\n",
       "  'eb': ['Walter Müller', ' W.Zischek', ' R.Bias', ' A.Büttig', ' F.Preiß'],\n",
       "  'gebiet': 'Böhmische Schweiz',\n",
       "  'gipfel': 'Schäferwandturm / V&#283;\\x9e Pastý&#345;ské st&#283;ny',\n",
       "  'sector': ' Prebischtorgebiet / Prav&#269;ická brána',\n",
       "  'weg': '1 Alter Weg / Stará cesta',\n",
       "  'year': '02.10.1932'}]"
      ]
     },
     "execution_count": 123,
     "metadata": {},
     "output_type": "execute_result"
    }
   ],
   "source": [
    "res"
   ]
  }
 ],
 "metadata": {
  "anaconda-cloud": {},
  "kernelspec": {
   "display_name": "Python 3",
   "language": "python",
   "name": "python3"
  },
  "language_info": {
   "codemirror_mode": {
    "name": "ipython",
    "version": 3
   },
   "file_extension": ".py",
   "mimetype": "text/x-python",
   "name": "python",
   "nbconvert_exporter": "python",
   "pygments_lexer": "ipython3",
   "version": "3.5.2"
  }
 },
 "nbformat": 4,
 "nbformat_minor": 1
}
