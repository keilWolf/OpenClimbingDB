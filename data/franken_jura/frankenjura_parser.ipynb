{
 "cells": [
  {
   "cell_type": "code",
   "execution_count": 2,
   "metadata": {
    "collapsed": true
   },
   "outputs": [],
   "source": [
    "from lxml import html\n",
    "import requests"
   ]
  },
  {
   "cell_type": "code",
   "execution_count": 3,
   "metadata": {
    "collapsed": false
   },
   "outputs": [],
   "source": [
    "page = requests.get('http://econpy.pythonanywhere.com/ex/001.html')\n",
    "tree = html.fromstring(page.content)"
   ]
  },
  {
   "cell_type": "code",
   "execution_count": 6,
   "metadata": {
    "collapsed": false
   },
   "outputs": [
    {
     "name": "stdout",
     "output_type": "stream",
     "text": [
      "Buyers:  ['Carson Busses', 'Earl E. Byrd', 'Patty Cakes', 'Derri Anne Connecticut', 'Moe Dess', 'Leda Doggslife', 'Dan Druff', 'Al Fresco', 'Ido Hoe', 'Howie Kisses', 'Len Lease', 'Phil Meup', 'Ira Pent', 'Ben D. Rules', 'Ave Sectomy', 'Gary Shattire', 'Bobbi Soks', 'Sheila Takya', 'Rose Tattoo', 'Moe Tell']\n",
      "Prices:  ['$29.95', '$8.37', '$15.26', '$19.25', '$19.25', '$13.99', '$31.57', '$8.49', '$14.47', '$15.86', '$11.11', '$15.98', '$16.27', '$7.50', '$50.85', '$14.26', '$5.68', '$15.00', '$114.07', '$10.09']\n"
     ]
    }
   ],
   "source": [
    "#This will create a list of buyers:\n",
    "buyers = tree.xpath('//div[@title=\"buyer-name\"]/text()')\n",
    "#This will create a list of prices\n",
    "prices = tree.xpath('//span[@class=\"item-price\"]/text()')\n",
    "\n",
    "print('Buyers: ', buyers)\n",
    "print('Prices: ', prices)"
   ]
  },
  {
   "cell_type": "code",
   "execution_count": 7,
   "metadata": {
    "collapsed": true
   },
   "outputs": [],
   "source": [
    "page = requests.get('https://www.frankenjura.com/klettern/poi/1469')\n",
    "tree = html.fromstring(page.content)"
   ]
  },
  {
   "cell_type": "code",
   "execution_count": 44,
   "metadata": {
    "collapsed": false
   },
   "outputs": [],
   "source": [
    "e = tree.xpath('//table')[0]"
   ]
  },
  {
   "cell_type": "code",
   "execution_count": 53,
   "metadata": {
    "collapsed": false
   },
   "outputs": [
    {
     "name": "stdout",
     "output_type": "stream",
     "text": [
      "Höhe:\n",
      "\t\t\t15-22m\n",
      "Ausrichtung:\n",
      "\t\t\tSüd\n",
      "Vegetation:\n",
      "\t\t\tnein\n",
      "Jahreszeit:\n",
      "Kinder- freundlichkeit: \n",
      "\t\t\t\n",
      "Mit Babysitter gut\n",
      "Regensicherheit:\n",
      "\t\t\tja\n",
      "Regenanfälligkeit:\n",
      "\t\t\tFels ist lange nass\n",
      "Neigung:\n",
      "Absicherung:\n",
      "\t\t\tPerfekt, Gut, Schlecht\n",
      "Felsstruktur:\n",
      "\t\t\tLeisten, Löcher, Sloper\n"
     ]
    }
   ],
   "source": [
    "for c in e.getchildren():\n",
    "    print(c.text_content().strip())"
   ]
  },
  {
   "cell_type": "code",
   "execution_count": 61,
   "metadata": {
    "collapsed": false
   },
   "outputs": [],
   "source": [
    "e = "
   ]
  },
  {
   "cell_type": "code",
   "execution_count": 65,
   "metadata": {
    "collapsed": false
   },
   "outputs": [],
   "source": [
    "t = e.getchildren()[0]"
   ]
  },
  {
   "cell_type": "code",
   "execution_count": 96,
   "metadata": {
    "collapsed": false
   },
   "outputs": [
    {
     "data": {
      "text/plain": [
       "'p'"
      ]
     },
     "execution_count": 96,
     "metadata": {},
     "output_type": "execute_result"
    }
   ],
   "source": [
    "t.tag"
   ]
  },
  {
   "cell_type": "code",
   "execution_count": 85,
   "metadata": {
    "collapsed": false
   },
   "outputs": [
    {
     "data": {
      "text/plain": [
       "'Beschreibung'"
      ]
     },
     "execution_count": 85,
     "metadata": {},
     "output_type": "execute_result"
    }
   ],
   "source": [
    "t.text"
   ]
  },
  {
   "cell_type": "code",
   "execution_count": 101,
   "metadata": {
    "collapsed": false
   },
   "outputs": [
    {
     "name": "stdout",
     "output_type": "stream",
     "text": [
      "Zufahrt :: Von Tüchersfeld Richtung Pottenstein fahren. Nach einigen Kilometern erscheint links der Campingplatz an der Bärenschlucht.\r\n",
      "\r\n",
      "Hier zweigt links eine Straße nach Weidmannsgesees ab. An dieser parken.\n",
      "Zustieg :: Von der Parkmöglichkeit an der Wand entlang zu den verschiedenen Wandteilen.\n",
      "Beschreibung :: Hauptsächlich schwere athletische Klettereien.\n"
     ]
    }
   ],
   "source": [
    "info = {}\n",
    "\n",
    "key = None\n",
    "for t in tree.xpath('//div[@class=\"poi-section\"]')[2].getchildren():\n",
    "    if 'h4' == t.tag:\n",
    "        key = t.text\n",
    "    else:\n",
    "        info[key] = t.text\n",
    "    \n",
    "for k in info:\n",
    "    print('{} :: {}'.format(k, info[k]))"
   ]
  }
 ],
 "metadata": {
  "anaconda-cloud": {},
  "kernelspec": {
   "display_name": "Python 3",
   "language": "python",
   "name": "python3"
  },
  "language_info": {
   "codemirror_mode": {
    "name": "ipython",
    "version": 3
   },
   "file_extension": ".py",
   "mimetype": "text/x-python",
   "name": "python",
   "nbconvert_exporter": "python",
   "pygments_lexer": "ipython3",
   "version": "3.5.2"
  }
 },
 "nbformat": 4,
 "nbformat_minor": 1
}
